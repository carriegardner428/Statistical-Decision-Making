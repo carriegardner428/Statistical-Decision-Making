{
 "cells": [
  {
   "cell_type": "markdown",
   "id": "cutting-mainstream",
   "metadata": {},
   "source": [
    "# Introduction"
   ]
  },
  {
   "cell_type": "code",
   "execution_count": 2,
   "id": "chinese-discrimination",
   "metadata": {},
   "outputs": [
    {
     "data": {
      "text/html": [
       "<style>\n",
       ".dl-inline {width: auto; margin:0; padding: 0}\n",
       ".dl-inline>dt, .dl-inline>dd {float: none; width: auto; display: inline-block}\n",
       ".dl-inline>dt::after {content: \":\\0020\"; padding-right: .5ex}\n",
       ".dl-inline>dt:not(:first-of-type) {padding-left: .5ex}\n",
       "</style><dl class=dl-inline><dt>MASS</dt><dd>TRUE</dd><dt>pwr</dt><dd>TRUE</dd><dt>stargazer</dt><dd>TRUE</dd><dt>pwrAB</dt><dd>TRUE</dd><dt>ggplot2</dt><dd>TRUE</dd><dt>plot3D</dt><dd>TRUE</dd><dt>margins</dt><dd>TRUE</dd><dt>forecast</dt><dd>TRUE</dd><dt>lift</dt><dd>TRUE</dd><dt>StatMeasures</dt><dd>TRUE</dd><dt>e1071</dt><dd>TRUE</dd><dt>rgenoud</dt><dd>TRUE</dd><dt>fitdistrplus</dt><dd>TRUE</dd><dt>fastDummies</dt><dd>TRUE</dd><dt>alabama</dt><dd>TRUE</dd><dt>sn</dt><dd>TRUE</dd><dt>ramify</dt><dd>TRUE</dd><dt>car</dt><dd>TRUE</dd><dt>readxl</dt><dd>TRUE</dd><dt>tidyverse</dt><dd>TRUE</dd><dt>tprstats</dt><dd>TRUE</dd></dl>\n"
      ],
      "text/latex": [
       "\\begin{description*}\n",
       "\\item[MASS] TRUE\n",
       "\\item[pwr] TRUE\n",
       "\\item[stargazer] TRUE\n",
       "\\item[pwrAB] TRUE\n",
       "\\item[ggplot2] TRUE\n",
       "\\item[plot3D] TRUE\n",
       "\\item[margins] TRUE\n",
       "\\item[forecast] TRUE\n",
       "\\item[lift] TRUE\n",
       "\\item[StatMeasures] TRUE\n",
       "\\item[e1071] TRUE\n",
       "\\item[rgenoud] TRUE\n",
       "\\item[fitdistrplus] TRUE\n",
       "\\item[fastDummies] TRUE\n",
       "\\item[alabama] TRUE\n",
       "\\item[sn] TRUE\n",
       "\\item[ramify] TRUE\n",
       "\\item[car] TRUE\n",
       "\\item[readxl] TRUE\n",
       "\\item[tidyverse] TRUE\n",
       "\\item[tprstats] TRUE\n",
       "\\end{description*}\n"
      ],
      "text/markdown": [
       "MASS\n",
       ":   TRUEpwr\n",
       ":   TRUEstargazer\n",
       ":   TRUEpwrAB\n",
       ":   TRUEggplot2\n",
       ":   TRUEplot3D\n",
       ":   TRUEmargins\n",
       ":   TRUEforecast\n",
       ":   TRUElift\n",
       ":   TRUEStatMeasures\n",
       ":   TRUEe1071\n",
       ":   TRUErgenoud\n",
       ":   TRUEfitdistrplus\n",
       ":   TRUEfastDummies\n",
       ":   TRUEalabama\n",
       ":   TRUEsn\n",
       ":   TRUEramify\n",
       ":   TRUEcar\n",
       ":   TRUEreadxl\n",
       ":   TRUEtidyverse\n",
       ":   TRUEtprstats\n",
       ":   TRUE\n",
       "\n"
      ],
      "text/plain": [
       "        MASS          pwr    stargazer        pwrAB      ggplot2       plot3D \n",
       "        TRUE         TRUE         TRUE         TRUE         TRUE         TRUE \n",
       "     margins     forecast         lift StatMeasures        e1071      rgenoud \n",
       "        TRUE         TRUE         TRUE         TRUE         TRUE         TRUE \n",
       "fitdistrplus  fastDummies      alabama           sn       ramify          car \n",
       "        TRUE         TRUE         TRUE         TRUE         TRUE         TRUE \n",
       "      readxl    tidyverse     tprstats \n",
       "        TRUE         TRUE         TRUE "
      ]
     },
     "metadata": {},
     "output_type": "display_data"
    }
   ],
   "source": [
    "library(tprstats);\n",
    "tprstats::setup();"
   ]
  },
  {
   "cell_type": "code",
   "execution_count": 7,
   "id": "collective-investigation",
   "metadata": {},
   "outputs": [
    {
     "data": {
      "text/html": [
       "<table>\n",
       "<caption>A tibble: 6 × 4</caption>\n",
       "<thead>\n",
       "\t<tr><th scope=col>Day</th><th scope=col>Month</th><th scope=col>Year</th><th scope=col>Temperature</th></tr>\n",
       "\t<tr><th scope=col>&lt;dbl&gt;</th><th scope=col>&lt;dbl&gt;</th><th scope=col>&lt;dbl&gt;</th><th scope=col>&lt;dbl&gt;</th></tr>\n",
       "</thead>\n",
       "<tbody>\n",
       "\t<tr><td>1</td><td>5</td><td>1995</td><td>49.2</td></tr>\n",
       "\t<tr><td>2</td><td>5</td><td>1995</td><td>48.7</td></tr>\n",
       "\t<tr><td>3</td><td>5</td><td>1995</td><td>48.6</td></tr>\n",
       "\t<tr><td>4</td><td>5</td><td>1995</td><td>53.5</td></tr>\n",
       "\t<tr><td>5</td><td>5</td><td>1995</td><td>53.5</td></tr>\n",
       "\t<tr><td>6</td><td>5</td><td>1995</td><td>54.1</td></tr>\n",
       "</tbody>\n",
       "</table>\n"
      ],
      "text/latex": [
       "A tibble: 6 × 4\n",
       "\\begin{tabular}{llll}\n",
       " Day & Month & Year & Temperature\\\\\n",
       " <dbl> & <dbl> & <dbl> & <dbl>\\\\\n",
       "\\hline\n",
       "\t 1 & 5 & 1995 & 49.2\\\\\n",
       "\t 2 & 5 & 1995 & 48.7\\\\\n",
       "\t 3 & 5 & 1995 & 48.6\\\\\n",
       "\t 4 & 5 & 1995 & 53.5\\\\\n",
       "\t 5 & 5 & 1995 & 53.5\\\\\n",
       "\t 6 & 5 & 1995 & 54.1\\\\\n",
       "\\end{tabular}\n"
      ],
      "text/markdown": [
       "\n",
       "A tibble: 6 × 4\n",
       "\n",
       "| Day &lt;dbl&gt; | Month &lt;dbl&gt; | Year &lt;dbl&gt; | Temperature &lt;dbl&gt; |\n",
       "|---|---|---|---|\n",
       "| 1 | 5 | 1995 | 49.2 |\n",
       "| 2 | 5 | 1995 | 48.7 |\n",
       "| 3 | 5 | 1995 | 48.6 |\n",
       "| 4 | 5 | 1995 | 53.5 |\n",
       "| 5 | 5 | 1995 | 53.5 |\n",
       "| 6 | 5 | 1995 | 54.1 |\n",
       "\n"
      ],
      "text/plain": [
       "  Day Month Year Temperature\n",
       "1 1   5     1995 49.2       \n",
       "2 2   5     1995 48.7       \n",
       "3 3   5     1995 48.6       \n",
       "4 4   5     1995 53.5       \n",
       "5 5   5     1995 53.5       \n",
       "6 6   5     1995 54.1       "
      ]
     },
     "metadata": {},
     "output_type": "display_data"
    }
   ],
   "source": [
    "dataset = read_excel('../data/Pgh_May_Temps.xlsx')\n",
    "head(dataset)"
   ]
  },
  {
   "cell_type": "code",
   "execution_count": 19,
   "id": "pediatric-possible",
   "metadata": {},
   "outputs": [
    {
     "data": {
      "image/png": "[encoded data removed]",
      "text/plain": [
       "Plot with title “Histogram of dataset$Temperature”"
      ]
     },
     "metadata": {
      "image/png": {
       "height": 420,
       "width": 420
      }
     },
     "output_type": "display_data"
    }
   ],
   "source": [
    "hist(dataset$Temperature)"
   ]
  },
  {
   "cell_type": "code",
   "execution_count": 9,
   "id": "phantom-rebate",
   "metadata": {},
   "outputs": [
    {
     "data": {
      "text/html": [
       "61.6767029972752"
      ],
      "text/latex": [
       "61.6767029972752"
      ],
      "text/markdown": [
       "61.6767029972752"
      ],
      "text/plain": [
       "[1] 61.6767"
      ]
     },
     "metadata": {},
     "output_type": "display_data"
    }
   ],
   "source": [
    "mean(dataset$Temperature)"
   ]
  },
  {
   "cell_type": "code",
   "execution_count": 10,
   "id": "competitive-console",
   "metadata": {},
   "outputs": [
    {
     "data": {
      "text/html": [
       "8.16112399814102"
      ],
      "text/latex": [
       "8.16112399814102"
      ],
      "text/markdown": [
       "8.16112399814102"
      ],
      "text/plain": [
       "[1] 8.161124"
      ]
     },
     "metadata": {},
     "output_type": "display_data"
    }
   ],
   "source": [
    "sd(dataset$Temperature)"
   ]
  },
  {
   "cell_type": "code",
   "execution_count": 11,
   "id": "satisfied-restaurant",
   "metadata": {},
   "outputs": [
    {
     "data": {
      "text/html": [
       "<strong>25%:</strong> 55.6"
      ],
      "text/latex": [
       "\\textbf{25\\textbackslash{}\\%:} 55.6"
      ],
      "text/markdown": [
       "**25%:** 55.6"
      ],
      "text/plain": [
       " 25% \n",
       "55.6 "
      ]
     },
     "metadata": {},
     "output_type": "display_data"
    }
   ],
   "source": [
    "quantile(dataset$Temperature,.25)"
   ]
  },
  {
   "cell_type": "code",
   "execution_count": null,
   "id": "announced-sewing",
   "metadata": {},
   "outputs": [],
   "source": []
  }
 ],
 "metadata": {
  "kernelspec": {
   "display_name": "R",
   "language": "R",
   "name": "ir"
  },
  "language_info": {
   "codemirror_mode": "r",
   "file_extension": ".r",
   "mimetype": "text/x-r-source",
   "name": "R",
   "pygments_lexer": "r",
   "version": "4.0.3"
  },
  "toc": {
   "base_numbering": 1,
   "nav_menu": {},
   "number_sections": true,
   "sideBar": true,
   "skip_h1_title": false,
   "title_cell": "Table of Contents",
   "title_sidebar": "Contents",
   "toc_cell": false,
   "toc_position": {},
   "toc_section_display": true,
   "toc_window_display": false
  }
 },
 "nbformat": 4,
 "nbformat_minor": 5
}
